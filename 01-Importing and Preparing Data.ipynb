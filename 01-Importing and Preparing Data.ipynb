{
 "cells": [
  {
   "cell_type": "markdown",
   "metadata": {},
   "source": [
    "# Data Import and Preprocessing\n",
    "This notebook imports the data set collected as described in the paper. It further preprocesses the data (i.e., cleaning and extracting the blobs from a full capacitive image to achieve position-invariance)."
   ]
  },
  {
   "cell_type": "code",
   "execution_count": 1,
   "metadata": {},
   "outputs": [],
   "source": [
    "import pandas as pd\n",
    "import numpy as np\n",
    "\n",
    "import time\n",
    "import os  \n",
    "import subprocess\n",
    "from multiprocessing import Pool\n",
    "import math\n",
    "\n",
    "from IPython import display\n",
    "import matplotlib as mpl\n",
    "import matplotlib.pyplot as plt\n",
    "from matplotlib import animation\n",
    "from matplotlib.patches import Rectangle\n",
    "\n",
    "import io\n",
    "%matplotlib inline"
   ]
  },
  {
   "cell_type": "markdown",
   "metadata": {},
   "source": [
    "## Importing data"
   ]
  },
  {
   "cell_type": "code",
   "execution_count": 2,
   "metadata": {},
   "outputs": [],
   "source": [
    "df = \"\"\n",
    "PATH = \"./data/\"\n",
    "\n",
    "for filename in os.listdir(PATH):\n",
    "    if filename.endswith(\".txt\"): \n",
    "        dfTemp = pd.read_csv(PATH + filename, header=None, names=[\"Participant\", \"Handedness\", \"Finger\", \"Task\", \"Ignore\", \"MatrixStr\"], delimiter=\";\")\n",
    "        if (type(df) is str):\n",
    "            df = dfTemp\n",
    "        else:\n",
    "            df = df.append(dfTemp)\n",
    "    else:\n",
    "        continue\n",
    "        \n",
    "# Remove the \"Ignore\" column \n",
    "df = df.drop('Ignore', 1)"
   ]
  },
  {
   "cell_type": "code",
   "execution_count": 3,
   "metadata": {},
   "outputs": [
    {
     "name": "stdout",
     "output_type": "stream",
     "text": [
      "Number of samples: 921538\n"
     ]
    }
   ],
   "source": [
    "print(\"Number of samples:\", len(df))"
   ]
  },
  {
   "cell_type": "markdown",
   "metadata": {},
   "source": [
    "# Creating Data Structures "
   ]
  },
  {
   "cell_type": "code",
   "execution_count": 4,
   "metadata": {},
   "outputs": [
    {
     "name": "stdout",
     "output_type": "stream",
     "text": [
      "CPU times: user 8min 39s, sys: 11.6 s, total: 8min 51s\n",
      "Wall time: 8min 30s\n"
     ]
    }
   ],
   "source": [
    "%%time\n",
    "temp_var = None\n",
    "def transform_to_matrix(s):\n",
    "    matrix = s.replace(\"\\n\", \"\")\n",
    "    matrix = matrix.split(\",\")\n",
    "\n",
    "    if (len(matrix) != 408):\n",
    "        return -1, -1\n",
    "    \n",
    "    matrix = matrix[:407]\n",
    "    \n",
    "    # determine timestamp\n",
    "    timestamp = str(matrix[0]) + str(matrix[1][:3])\n",
    "    timestamp = int(timestamp)\n",
    "    \n",
    "    matrix = np.array(matrix[2:]).reshape(27, 15)\n",
    "    \n",
    "    matrix[matrix==''] = '0'\n",
    "    matrix[matrix=='-'] = '0'\n",
    "    \n",
    "    try:\n",
    "        matrix = matrix.astype(int)\n",
    "    except ValueError:\n",
    "        return -1, -1\n",
    "    \n",
    "    return matrix, timestamp\n",
    "\n",
    "df['Matrix'] = df.MatrixStr.apply(lambda x : transform_to_matrix(x)[0])\n",
    "df['Timestamp'] = df.MatrixStr.apply(lambda x : transform_to_matrix(x)[1])\n",
    "df = df.drop(['MatrixStr'], axis=1)\n",
    "df = df[~(df.Timestamp == -1)]"
   ]
  },
  {
   "cell_type": "code",
   "execution_count": 5,
   "metadata": {},
   "outputs": [],
   "source": [
    "df = df[df.Task != \"PAUSE\"]"
   ]
  },
  {
   "cell_type": "markdown",
   "metadata": {},
   "source": [
    "## Custom blob detection\n",
    "The following code performs a blob detection to paste the touch blobs into blob images representing the touch on the upper left corner as described in the paper. This step is necessary to train a position-invariant model."
   ]
  },
  {
   "cell_type": "code",
   "execution_count": 6,
   "metadata": {},
   "outputs": [],
   "source": [
    "THRESHOLD = 30\n",
    "\n",
    "# Recursive blob detection\n",
    "def blob_detection(matrix, x, y, found):\n",
    "    if x > 0 and x < len(matrix[0]) and y > 0 and y < len(matrix) and matrix[y][x] > THRESHOLD and ((x,y) not in found):\n",
    "        found.append((x, y))\n",
    "        blob_detection(matrix, x + 1, y, found) # right\n",
    "        blob_detection(matrix, x - 1, y, found) # left\n",
    "        blob_detection(matrix, x, y + 1, found) # top\n",
    "        blob_detection(matrix, x, y - 1, found) # down\n",
    "        \n",
    "# Returns Blob Coordinates, connected tiles > 30\n",
    "def get_blobs(matrix):\n",
    "    blobs = []\n",
    "    founds = []\n",
    "    for y in range(0, len(matrix)):\n",
    "        for x in range(0, len(matrix[0])):\n",
    "\n",
    "            # blob detection\n",
    "            found = []\n",
    "            blob_detection(matrix, x, y, found)\n",
    "\n",
    "            if (len(found) > 0):\n",
    "                sorted_by_x = sorted(found, key=lambda x: x[0])\n",
    "                sorted_by_y = sorted(found, key=lambda x: x[1])\n",
    "                x_min = sorted_by_x[0][0]\n",
    "                y_min = sorted_by_y[0][1]\n",
    "                x_max = sorted_by_x[len(sorted_by_x) - 1][0]\n",
    "                y_max = sorted_by_y[len(sorted_by_y) - 1][1]\n",
    "                \n",
    "                if (x_min - 1, x_max + 1, y_min - 1, y_max + 1) not in blobs and ((x_max - x_min) * (y_max - y_min)) > 1:\n",
    "                    blobs.append((x_min - 1, x_max + 1, y_min - 1, y_max + 1))\n",
    "                    founds.append(len(found))\n",
    "    \n",
    "    return blobs\n",
    "\n",
    "# Returns the cutted blob\n",
    "def get_blob_contents(matrix, blob_coordinates):\n",
    "    matrices = []\n",
    "    for c in blob_coordinates:\n",
    "        matrices.append(matrix[c[2]:c[3], c[0]:c[1]])\n",
    "    return matrices\n",
    "\n",
    "# Returns the coordinates of the rectangle containing the touch blob\n",
    "def get_plt_rect(blob_coordinates):\n",
    "    return Rectangle((blob_coordinates[2] - 0.5, blob_coordinates[0]  - 0.5), (blob_coordinates[1] - blob_coordinates[0]) + 1, (blob_coordinates[3] - blob_coordinates[2]) + 1, fill=None, alpha=1, lw=2, color='lime')"
   ]
  },
  {
   "cell_type": "code",
   "execution_count": 7,
   "metadata": {},
   "outputs": [
    {
     "name": "stdout",
     "output_type": "stream",
     "text": [
      "CPU times: user 13min 13s, sys: 3.3 s, total: 13min 16s\n",
      "Wall time: 13min 16s\n"
     ]
    }
   ],
   "source": [
    "%%time\n",
    "df['BlobCoords'] = df.Matrix.apply(lambda x : get_blobs(x))\n",
    "df['BlobCount'] = df.BlobCoords.apply(lambda x : len(x))\n",
    "df['Blobs'] = [get_blob_contents(df.Matrix.iloc[i], df.BlobCoords.iloc[i]) for i in range(len(df))]\n",
    "\n",
    "# remove all empty images and images with more than one blob\n",
    "df = df[df.BlobCount == 1]"
   ]
  },
  {
   "cell_type": "markdown",
   "metadata": {},
   "source": [
    "## Blob Image Generation"
   ]
  },
  {
   "cell_type": "markdown",
   "metadata": {},
   "source": [
    "This generates a 405px images (for basic machine learning) and 27x15px images (for ConvNets)."
   ]
  },
  {
   "cell_type": "code",
   "execution_count": 8,
   "metadata": {},
   "outputs": [],
   "source": [
    "def generate_blob_img(blobs):\n",
    "    # taking the first blob as only one is expected\n",
    "    blob = blobs[0]\n",
    "    return np.pad(blob, ((0, 27 - blob.shape[0]),(0, 15 - blob.shape[1])), mode='constant', constant_values=0)\n",
    "\n",
    "df['BlobImage'] = df.Blobs.apply(lambda x : generate_blob_img(x))\n",
    "\n",
    "# Creating a flattened version of the blob image for basic ML approaches\n",
    "df['BlobImgFlattened'] = df.BlobImage.apply(lambda x : x.flatten())"
   ]
  },
  {
   "cell_type": "code",
   "execution_count": 9,
   "metadata": {},
   "outputs": [
    {
     "data": {
      "text/html": [
       "<div>\n",
       "<style scoped>\n",
       "    .dataframe tbody tr th:only-of-type {\n",
       "        vertical-align: middle;\n",
       "    }\n",
       "\n",
       "    .dataframe tbody tr th {\n",
       "        vertical-align: top;\n",
       "    }\n",
       "\n",
       "    .dataframe thead th {\n",
       "        text-align: right;\n",
       "    }\n",
       "</style>\n",
       "<table border=\"1\" class=\"dataframe\">\n",
       "  <thead>\n",
       "    <tr style=\"text-align: right;\">\n",
       "      <th></th>\n",
       "      <th>Participant</th>\n",
       "      <th>Handedness</th>\n",
       "      <th>Finger</th>\n",
       "      <th>Task</th>\n",
       "      <th>Matrix</th>\n",
       "      <th>Timestamp</th>\n",
       "      <th>BlobCoords</th>\n",
       "      <th>BlobCount</th>\n",
       "      <th>Blobs</th>\n",
       "      <th>BlobImage</th>\n",
       "      <th>BlobImgFlattened</th>\n",
       "    </tr>\n",
       "  </thead>\n",
       "  <tbody>\n",
       "    <tr>\n",
       "      <th>42</th>\n",
       "      <td>20</td>\n",
       "      <td>left</td>\n",
       "      <td>ring</td>\n",
       "      <td>DRAG</td>\n",
       "      <td>[[0, 1, 2, 0, 0, 2, 1, 1, 1, 2, 1, 1, 0, 1, 0]...</td>\n",
       "      <td>1510664676885</td>\n",
       "      <td>[(11, 15, 14, 18)]</td>\n",
       "      <td>1</td>\n",
       "      <td>[[[2, 5, 14, 9], [1, 27, 113, 73], [4, 60, 217...</td>\n",
       "      <td>[[2, 5, 14, 9, 0, 0, 0, 0, 0, 0, 0, 0, 0, 0, 0...</td>\n",
       "      <td>[2, 5, 14, 9, 0, 0, 0, 0, 0, 0, 0, 0, 0, 0, 0,...</td>\n",
       "    </tr>\n",
       "    <tr>\n",
       "      <th>43</th>\n",
       "      <td>20</td>\n",
       "      <td>left</td>\n",
       "      <td>ring</td>\n",
       "      <td>DRAG</td>\n",
       "      <td>[[0, 1, 2, 0, 0, 2, 1, 1, 1, 2, 1, 1, 0, 1, 0]...</td>\n",
       "      <td>1510664676958</td>\n",
       "      <td>[(10, 14, 14, 18)]</td>\n",
       "      <td>1</td>\n",
       "      <td>[[[0, 4, 7, 5], [4, 9, 48, 44], [4, 40, 215, 1...</td>\n",
       "      <td>[[0, 4, 7, 5, 0, 0, 0, 0, 0, 0, 0, 0, 0, 0, 0]...</td>\n",
       "      <td>[0, 4, 7, 5, 0, 0, 0, 0, 0, 0, 0, 0, 0, 0, 0, ...</td>\n",
       "    </tr>\n",
       "    <tr>\n",
       "      <th>44</th>\n",
       "      <td>20</td>\n",
       "      <td>left</td>\n",
       "      <td>ring</td>\n",
       "      <td>DRAG</td>\n",
       "      <td>[[0, 1, 2, 0, 0, 2, 1, 1, 1, 2, 1, 1, 0, 1, 0]...</td>\n",
       "      <td>1510664677286</td>\n",
       "      <td>[(9, 13, 15, 19)]</td>\n",
       "      <td>1</td>\n",
       "      <td>[[[4, 5, 10, 5], [7, 27, 83, 48], [7, 83, 243,...</td>\n",
       "      <td>[[4, 5, 10, 5, 0, 0, 0, 0, 0, 0, 0, 0, 0, 0, 0...</td>\n",
       "      <td>[4, 5, 10, 5, 0, 0, 0, 0, 0, 0, 0, 0, 0, 0, 0,...</td>\n",
       "    </tr>\n",
       "    <tr>\n",
       "      <th>45</th>\n",
       "      <td>20</td>\n",
       "      <td>left</td>\n",
       "      <td>ring</td>\n",
       "      <td>DRAG</td>\n",
       "      <td>[[0, 1, 2, 0, 0, 2, 1, 1, 1, 2, 1, 1, 0, 1, 0]...</td>\n",
       "      <td>1510664677988</td>\n",
       "      <td>[(7, 11, 16, 20)]</td>\n",
       "      <td>1</td>\n",
       "      <td>[[[4, 5, 11, 9], [4, 18, 62, 42], [2, 64, 232,...</td>\n",
       "      <td>[[4, 5, 11, 9, 0, 0, 0, 0, 0, 0, 0, 0, 0, 0, 0...</td>\n",
       "      <td>[4, 5, 11, 9, 0, 0, 0, 0, 0, 0, 0, 0, 0, 0, 0,...</td>\n",
       "    </tr>\n",
       "    <tr>\n",
       "      <th>46</th>\n",
       "      <td>20</td>\n",
       "      <td>left</td>\n",
       "      <td>ring</td>\n",
       "      <td>DRAG</td>\n",
       "      <td>[[0, 1, 2, 0, 0, 2, 1, 1, 1, 2, 1, 1, 0, 1, 0]...</td>\n",
       "      <td>1510664677169</td>\n",
       "      <td>[(4, 8, 18, 22)]</td>\n",
       "      <td>1</td>\n",
       "      <td>[[[4, 10, 18, 15], [5, 23, 125, 119], [7, 32, ...</td>\n",
       "      <td>[[4, 10, 18, 15, 0, 0, 0, 0, 0, 0, 0, 0, 0, 0,...</td>\n",
       "      <td>[4, 10, 18, 15, 0, 0, 0, 0, 0, 0, 0, 0, 0, 0, ...</td>\n",
       "    </tr>\n",
       "  </tbody>\n",
       "</table>\n",
       "</div>"
      ],
      "text/plain": [
       "    Participant Handedness Finger  Task  \\\n",
       "42           20       left   ring  DRAG   \n",
       "43           20       left   ring  DRAG   \n",
       "44           20       left   ring  DRAG   \n",
       "45           20       left   ring  DRAG   \n",
       "46           20       left   ring  DRAG   \n",
       "\n",
       "                                               Matrix      Timestamp  \\\n",
       "42  [[0, 1, 2, 0, 0, 2, 1, 1, 1, 2, 1, 1, 0, 1, 0]...  1510664676885   \n",
       "43  [[0, 1, 2, 0, 0, 2, 1, 1, 1, 2, 1, 1, 0, 1, 0]...  1510664676958   \n",
       "44  [[0, 1, 2, 0, 0, 2, 1, 1, 1, 2, 1, 1, 0, 1, 0]...  1510664677286   \n",
       "45  [[0, 1, 2, 0, 0, 2, 1, 1, 1, 2, 1, 1, 0, 1, 0]...  1510664677988   \n",
       "46  [[0, 1, 2, 0, 0, 2, 1, 1, 1, 2, 1, 1, 0, 1, 0]...  1510664677169   \n",
       "\n",
       "            BlobCoords  BlobCount  \\\n",
       "42  [(11, 15, 14, 18)]          1   \n",
       "43  [(10, 14, 14, 18)]          1   \n",
       "44   [(9, 13, 15, 19)]          1   \n",
       "45   [(7, 11, 16, 20)]          1   \n",
       "46    [(4, 8, 18, 22)]          1   \n",
       "\n",
       "                                                Blobs  \\\n",
       "42  [[[2, 5, 14, 9], [1, 27, 113, 73], [4, 60, 217...   \n",
       "43  [[[0, 4, 7, 5], [4, 9, 48, 44], [4, 40, 215, 1...   \n",
       "44  [[[4, 5, 10, 5], [7, 27, 83, 48], [7, 83, 243,...   \n",
       "45  [[[4, 5, 11, 9], [4, 18, 62, 42], [2, 64, 232,...   \n",
       "46  [[[4, 10, 18, 15], [5, 23, 125, 119], [7, 32, ...   \n",
       "\n",
       "                                            BlobImage  \\\n",
       "42  [[2, 5, 14, 9, 0, 0, 0, 0, 0, 0, 0, 0, 0, 0, 0...   \n",
       "43  [[0, 4, 7, 5, 0, 0, 0, 0, 0, 0, 0, 0, 0, 0, 0]...   \n",
       "44  [[4, 5, 10, 5, 0, 0, 0, 0, 0, 0, 0, 0, 0, 0, 0...   \n",
       "45  [[4, 5, 11, 9, 0, 0, 0, 0, 0, 0, 0, 0, 0, 0, 0...   \n",
       "46  [[4, 10, 18, 15, 0, 0, 0, 0, 0, 0, 0, 0, 0, 0,...   \n",
       "\n",
       "                                     BlobImgFlattened  \n",
       "42  [2, 5, 14, 9, 0, 0, 0, 0, 0, 0, 0, 0, 0, 0, 0,...  \n",
       "43  [0, 4, 7, 5, 0, 0, 0, 0, 0, 0, 0, 0, 0, 0, 0, ...  \n",
       "44  [4, 5, 10, 5, 0, 0, 0, 0, 0, 0, 0, 0, 0, 0, 0,...  \n",
       "45  [4, 5, 11, 9, 0, 0, 0, 0, 0, 0, 0, 0, 0, 0, 0,...  \n",
       "46  [4, 10, 18, 15, 0, 0, 0, 0, 0, 0, 0, 0, 0, 0, ...  "
      ]
     },
     "execution_count": 9,
     "metadata": {},
     "output_type": "execute_result"
    }
   ],
   "source": [
    "df.head()"
   ]
  },
  {
   "cell_type": "code",
   "execution_count": 10,
   "metadata": {},
   "outputs": [
    {
     "data": {
      "text/plain": [
       "<matplotlib.image.AxesImage at 0x7f55ba829f60>"
      ]
     },
     "execution_count": 10,
     "metadata": {},
     "output_type": "execute_result"
    },
    {
     "data": {
      "image/png": "[encoded data removed]",
      "text/plain": [
       "<matplotlib.figure.Figure at 0x7f561bf4cba8>"
      ]
     },
     "metadata": {
      "needs_background": "light"
     },
     "output_type": "display_data"
    }
   ],
   "source": [
    "plt.imshow(df.BlobImage.iloc[20])"
   ]
  },
  {
   "cell_type": "code",
   "execution_count": 11,
   "metadata": {},
   "outputs": [],
   "source": [
    "# Store data set\n",
    "# df.to_pickle(\"full_data_set.pkl\")"
   ]
  }
 ],
 "metadata": {
  "kernelspec": {
   "display_name": "Python 3",
   "language": "python",
   "name": "python3"
  },
  "language_info": {
   "codemirror_mode": {
    "name": "ipython",
    "version": 3
   },
   "file_extension": ".py",
   "mimetype": "text/x-python",
   "name": "python",
   "nbconvert_exporter": "python",
   "pygments_lexer": "ipython3",
   "version": "3.6.7"
  }
 },
 "nbformat": 4,
 "nbformat_minor": 2
}
